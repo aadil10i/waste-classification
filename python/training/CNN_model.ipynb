{
 "cells": [
  {
   "cell_type": "code",
   "execution_count": null,
   "metadata": {},
   "outputs": [],
   "source": [
    "from imp import load_module\n",
    "import cv2\n",
    "from keras.layers import Dense, Flatten\n",
    "from keras.optimizers import adam\n",
    "from keras.callbacks import ModelCheckpoint\n",
    "from keras.models import Sequential\n",
    "from keras.layers import Dense, Conv2D, MaxPooling2D, Flatten, Dropout\n",
    "\n",
    "from keras.preprocessing.image import ImageDataGenerator\n",
    "from keras.layers import Dense\n",
    "from matplotlib import pyplot as plt\n",
    "import numpy as np"
   ]
  },
  {
   "cell_type": "code",
   "execution_count": null,
   "metadata": {},
   "outputs": [],
   "source": [
    "train_path = \"C:/Users/AADIL/Documents/models/waste-classification-data/DATASET/TRAIN/\"\n",
    "test_path = \"C:/Users/AADIL/Documents/models/waste-classification-data/DATASET/TEST/\"\n",
    "IMG_BREDTH = 128\n",
    "IMG_HEIGHT = 128\n",
    "num_classes = 2"
   ]
  },
  {
   "cell_type": "code",
   "execution_count": null,
   "metadata": {},
   "outputs": [],
   "source": [
    "train_batch = ImageDataGenerator(featurewise_center=False,\n",
    "                                 samplewise_center=False, \n",
    "                                 featurewise_std_normalization=False, \n",
    "                                 samplewise_std_normalization=False, \n",
    "                                 zca_whitening=False, \n",
    "                                 rotation_range=45, \n",
    "                                 width_shift_range=0.2, \n",
    "                                 height_shift_range=0.2, \n",
    "                                 horizontal_flip=True, \n",
    "                                 vertical_flip=False).flow_from_directory(train_path, \n",
    "                                                                          target_size=(IMG_HEIGHT, IMG_BREDTH), \n",
    "                                                                          classes=['O', 'R'], \n",
    "                                                                          batch_size=2)\n",
    "\n",
    "test_batch = ImageDataGenerator().flow_from_directory(test_path, \n",
    "                                                      target_size=(IMG_HEIGHT, IMG_BREDTH), \n",
    "                                                      classes=['O', 'R'], \n",
    "                                                      batch_size=2)"
   ]
  },
  {
   "cell_type": "code",
   "execution_count": null,
   "metadata": {},
   "outputs": [],
   "source": [
    "def cnn_model():\n",
    "    \n",
    "    model = Sequential()\n",
    "\n",
    "    model.add(Conv2D(32, kernel_size=(3, 3), padding='same', activation='relu', input_shape=(IMG_HEIGHT,IMG_BREDTH,3)))\n",
    "    model.add(Conv2D(32, kernel_size=(3, 3), activation='relu'))\n",
    "    model.add(Conv2D(32, kernel_size=(3, 3), activation='relu'))\n",
    "    model.add(MaxPooling2D(pool_size=(2, 2)))\n",
    "    model.add(Dropout(0.25))\n",
    "\n",
    "    model.add(Conv2D(64, kernel_size=(3, 3), activation='relu'))\n",
    "    model.add(Conv2D(64, kernel_size=(3, 3), activation='relu'))\n",
    "    model.add(Conv2D(64, kernel_size=(3, 3), activation='relu'))\n",
    "    model.add(Dropout(0.25))\n",
    "    \n",
    "    model.add(Flatten())\n",
    "\n",
    "    model.add(Dense(512, activation='relu'))\n",
    "    model.add(Dropout(0.5))\n",
    "    model.add(Dense(512, activation='relu'))\n",
    "    model.add(Dropout(0.5))\n",
    "\n",
    "    model.add(Dense(num_classes, activation='softmax'))            \n",
    "    model.summary()\n",
    "    return model\n",
    "    \n",
    "    \n",
    "\n",
    "def use_model(path):\n",
    "    \n",
    "    model = load_module('model3_v1.h5')\n",
    "    pic = plt.imread(path)\n",
    "    pic = cv2.resize(pic, (IMG_BREDTH, IMG_HEIGHT))\n",
    "    pic = np.expand_dims(pic, axis=0)\n",
    "    classes = model.predict_classes(pic)\n",
    "    return classes\n"
   ]
  },
  {
   "cell_type": "code",
   "execution_count": null,
   "metadata": {},
   "outputs": [],
   "source": [
    "model = cnn_model()"
   ]
  },
  {
   "cell_type": "code",
   "execution_count": null,
   "metadata": {},
   "outputs": [],
   "source": [
    "checkpoint = ModelCheckpoint('model3_v1.h5', \n",
    "                             monitor='val_loss', \n",
    "                             verbose=0, \n",
    "                             save_best_only=True, \n",
    "                             mode='auto')"
   ]
  },
  {
   "cell_type": "code",
   "execution_count": null,
   "metadata": {},
   "outputs": [],
   "source": [
    "model.compile(loss='categorical_crossentropy', optimizer=adam(lr=1.0e-4), metrics=['accuracy'])"
   ]
  },
  {
   "cell_type": "code",
   "execution_count": null,
   "metadata": {},
   "outputs": [],
   "source": [
    "model = model.fit_generator(train_batch,  \n",
    "                             validation_data=test_batch,  \n",
    "                             epochs=50, \n",
    "                             verbose=1, \n",
    "                             callbacks=[checkpoint])"
   ]
  }
 ],
 "metadata": {
  "kernelspec": {
   "display_name": "Python 3",
   "language": "python",
   "name": "python3"
  },
  "language_info": {
   "codemirror_mode": {
    "name": "ipython",
    "version": 3
   },
   "file_extension": ".py",
   "mimetype": "text/x-python",
   "name": "python",
   "nbconvert_exporter": "python",
   "pygments_lexer": "ipython3",
   "version": "3.9.5"
  },
  "orig_nbformat": 4
 },
 "nbformat": 4,
 "nbformat_minor": 2
}
